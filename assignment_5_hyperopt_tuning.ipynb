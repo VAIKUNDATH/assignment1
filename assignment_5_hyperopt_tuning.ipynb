{
  "nbformat": 4,
  "nbformat_minor": 0,
  "metadata": {
    "colab": {
      "provenance": [],
      "authorship_tag": "ABX9TyPoeO/AeE5Vjg9AC+NxA+La",
      "include_colab_link": true
    },
    "kernelspec": {
      "name": "python3",
      "display_name": "Python 3"
    },
    "language_info": {
      "name": "python"
    }
  },
  "cells": [
    {
      "cell_type": "markdown",
      "metadata": {
        "id": "view-in-github",
        "colab_type": "text"
      },
      "source": [
        "<a href=\"https://colab.research.google.com/github/VAIKUNDATH/assignment1/blob/main/assignment_5_hyperopt_tuning.ipynb\" target=\"_parent\"><img src=\"https://colab.research.google.com/assets/colab-badge.svg\" alt=\"Open In Colab\"/></a>"
      ]
    },
    {
      "cell_type": "code",
      "execution_count": 1,
      "metadata": {
        "id": "ShgteJ6KXBEM"
      },
      "outputs": [],
      "source": [
        "import numpy as np\n",
        "import pandas as pd"
      ]
    },
    {
      "cell_type": "code",
      "source": [
        "df=pd.read_csv('/content/titanic (2).csv')"
      ],
      "metadata": {
        "id": "w26GEPRBXm_i"
      },
      "execution_count": 2,
      "outputs": []
    },
    {
      "cell_type": "code",
      "source": [
        "df.head()"
      ],
      "metadata": {
        "colab": {
          "base_uri": "https://localhost:8080/",
          "height": 206
        },
        "id": "9uqTvarsXsr4",
        "outputId": "ca39088b-d1db-4c54-dc25-82f43fae9435"
      },
      "execution_count": 3,
      "outputs": [
        {
          "output_type": "execute_result",
          "data": {
            "text/plain": [
              "   PassengerId  Survived  Pclass  \\\n",
              "0            1         0       3   \n",
              "1            2         1       1   \n",
              "2            3         1       3   \n",
              "3            4         1       1   \n",
              "4            5         0       3   \n",
              "\n",
              "                                                Name     Sex   Age  SibSp  \\\n",
              "0                            Braund, Mr. Owen Harris    male  22.0      1   \n",
              "1  Cumings, Mrs. John Bradley (Florence Briggs Th...  female  38.0      1   \n",
              "2                             Heikkinen, Miss. Laina  female  26.0      0   \n",
              "3       Futrelle, Mrs. Jacques Heath (Lily May Peel)  female  35.0      1   \n",
              "4                           Allen, Mr. William Henry    male  35.0      0   \n",
              "\n",
              "   Parch            Ticket     Fare Cabin Embarked  \n",
              "0      0         A/5 21171   7.2500   NaN        S  \n",
              "1      0          PC 17599  71.2833   C85        C  \n",
              "2      0  STON/O2. 3101282   7.9250   NaN        S  \n",
              "3      0            113803  53.1000  C123        S  \n",
              "4      0            373450   8.0500   NaN        S  "
            ],
            "text/html": [
              "\n",
              "  <div id=\"df-b6239a46-3549-4d1b-ba3b-996d89840266\">\n",
              "    <div class=\"colab-df-container\">\n",
              "      <div>\n",
              "<style scoped>\n",
              "    .dataframe tbody tr th:only-of-type {\n",
              "        vertical-align: middle;\n",
              "    }\n",
              "\n",
              "    .dataframe tbody tr th {\n",
              "        vertical-align: top;\n",
              "    }\n",
              "\n",
              "    .dataframe thead th {\n",
              "        text-align: right;\n",
              "    }\n",
              "</style>\n",
              "<table border=\"1\" class=\"dataframe\">\n",
              "  <thead>\n",
              "    <tr style=\"text-align: right;\">\n",
              "      <th></th>\n",
              "      <th>PassengerId</th>\n",
              "      <th>Survived</th>\n",
              "      <th>Pclass</th>\n",
              "      <th>Name</th>\n",
              "      <th>Sex</th>\n",
              "      <th>Age</th>\n",
              "      <th>SibSp</th>\n",
              "      <th>Parch</th>\n",
              "      <th>Ticket</th>\n",
              "      <th>Fare</th>\n",
              "      <th>Cabin</th>\n",
              "      <th>Embarked</th>\n",
              "    </tr>\n",
              "  </thead>\n",
              "  <tbody>\n",
              "    <tr>\n",
              "      <th>0</th>\n",
              "      <td>1</td>\n",
              "      <td>0</td>\n",
              "      <td>3</td>\n",
              "      <td>Braund, Mr. Owen Harris</td>\n",
              "      <td>male</td>\n",
              "      <td>22.0</td>\n",
              "      <td>1</td>\n",
              "      <td>0</td>\n",
              "      <td>A/5 21171</td>\n",
              "      <td>7.2500</td>\n",
              "      <td>NaN</td>\n",
              "      <td>S</td>\n",
              "    </tr>\n",
              "    <tr>\n",
              "      <th>1</th>\n",
              "      <td>2</td>\n",
              "      <td>1</td>\n",
              "      <td>1</td>\n",
              "      <td>Cumings, Mrs. John Bradley (Florence Briggs Th...</td>\n",
              "      <td>female</td>\n",
              "      <td>38.0</td>\n",
              "      <td>1</td>\n",
              "      <td>0</td>\n",
              "      <td>PC 17599</td>\n",
              "      <td>71.2833</td>\n",
              "      <td>C85</td>\n",
              "      <td>C</td>\n",
              "    </tr>\n",
              "    <tr>\n",
              "      <th>2</th>\n",
              "      <td>3</td>\n",
              "      <td>1</td>\n",
              "      <td>3</td>\n",
              "      <td>Heikkinen, Miss. Laina</td>\n",
              "      <td>female</td>\n",
              "      <td>26.0</td>\n",
              "      <td>0</td>\n",
              "      <td>0</td>\n",
              "      <td>STON/O2. 3101282</td>\n",
              "      <td>7.9250</td>\n",
              "      <td>NaN</td>\n",
              "      <td>S</td>\n",
              "    </tr>\n",
              "    <tr>\n",
              "      <th>3</th>\n",
              "      <td>4</td>\n",
              "      <td>1</td>\n",
              "      <td>1</td>\n",
              "      <td>Futrelle, Mrs. Jacques Heath (Lily May Peel)</td>\n",
              "      <td>female</td>\n",
              "      <td>35.0</td>\n",
              "      <td>1</td>\n",
              "      <td>0</td>\n",
              "      <td>113803</td>\n",
              "      <td>53.1000</td>\n",
              "      <td>C123</td>\n",
              "      <td>S</td>\n",
              "    </tr>\n",
              "    <tr>\n",
              "      <th>4</th>\n",
              "      <td>5</td>\n",
              "      <td>0</td>\n",
              "      <td>3</td>\n",
              "      <td>Allen, Mr. William Henry</td>\n",
              "      <td>male</td>\n",
              "      <td>35.0</td>\n",
              "      <td>0</td>\n",
              "      <td>0</td>\n",
              "      <td>373450</td>\n",
              "      <td>8.0500</td>\n",
              "      <td>NaN</td>\n",
              "      <td>S</td>\n",
              "    </tr>\n",
              "  </tbody>\n",
              "</table>\n",
              "</div>\n",
              "      <button class=\"colab-df-convert\" onclick=\"convertToInteractive('df-b6239a46-3549-4d1b-ba3b-996d89840266')\"\n",
              "              title=\"Convert this dataframe to an interactive table.\"\n",
              "              style=\"display:none;\">\n",
              "        \n",
              "  <svg xmlns=\"http://www.w3.org/2000/svg\" height=\"24px\"viewBox=\"0 0 24 24\"\n",
              "       width=\"24px\">\n",
              "    <path d=\"M0 0h24v24H0V0z\" fill=\"none\"/>\n",
              "    <path d=\"M18.56 5.44l.94 2.06.94-2.06 2.06-.94-2.06-.94-.94-2.06-.94 2.06-2.06.94zm-11 1L8.5 8.5l.94-2.06 2.06-.94-2.06-.94L8.5 2.5l-.94 2.06-2.06.94zm10 10l.94 2.06.94-2.06 2.06-.94-2.06-.94-.94-2.06-.94 2.06-2.06.94z\"/><path d=\"M17.41 7.96l-1.37-1.37c-.4-.4-.92-.59-1.43-.59-.52 0-1.04.2-1.43.59L10.3 9.45l-7.72 7.72c-.78.78-.78 2.05 0 2.83L4 21.41c.39.39.9.59 1.41.59.51 0 1.02-.2 1.41-.59l7.78-7.78 2.81-2.81c.8-.78.8-2.07 0-2.86zM5.41 20L4 18.59l7.72-7.72 1.47 1.35L5.41 20z\"/>\n",
              "  </svg>\n",
              "      </button>\n",
              "      \n",
              "  <style>\n",
              "    .colab-df-container {\n",
              "      display:flex;\n",
              "      flex-wrap:wrap;\n",
              "      gap: 12px;\n",
              "    }\n",
              "\n",
              "    .colab-df-convert {\n",
              "      background-color: #E8F0FE;\n",
              "      border: none;\n",
              "      border-radius: 50%;\n",
              "      cursor: pointer;\n",
              "      display: none;\n",
              "      fill: #1967D2;\n",
              "      height: 32px;\n",
              "      padding: 0 0 0 0;\n",
              "      width: 32px;\n",
              "    }\n",
              "\n",
              "    .colab-df-convert:hover {\n",
              "      background-color: #E2EBFA;\n",
              "      box-shadow: 0px 1px 2px rgba(60, 64, 67, 0.3), 0px 1px 3px 1px rgba(60, 64, 67, 0.15);\n",
              "      fill: #174EA6;\n",
              "    }\n",
              "\n",
              "    [theme=dark] .colab-df-convert {\n",
              "      background-color: #3B4455;\n",
              "      fill: #D2E3FC;\n",
              "    }\n",
              "\n",
              "    [theme=dark] .colab-df-convert:hover {\n",
              "      background-color: #434B5C;\n",
              "      box-shadow: 0px 1px 3px 1px rgba(0, 0, 0, 0.15);\n",
              "      filter: drop-shadow(0px 1px 2px rgba(0, 0, 0, 0.3));\n",
              "      fill: #FFFFFF;\n",
              "    }\n",
              "  </style>\n",
              "\n",
              "      <script>\n",
              "        const buttonEl =\n",
              "          document.querySelector('#df-b6239a46-3549-4d1b-ba3b-996d89840266 button.colab-df-convert');\n",
              "        buttonEl.style.display =\n",
              "          google.colab.kernel.accessAllowed ? 'block' : 'none';\n",
              "\n",
              "        async function convertToInteractive(key) {\n",
              "          const element = document.querySelector('#df-b6239a46-3549-4d1b-ba3b-996d89840266');\n",
              "          const dataTable =\n",
              "            await google.colab.kernel.invokeFunction('convertToInteractive',\n",
              "                                                     [key], {});\n",
              "          if (!dataTable) return;\n",
              "\n",
              "          const docLinkHtml = 'Like what you see? Visit the ' +\n",
              "            '<a target=\"_blank\" href=https://colab.research.google.com/notebooks/data_table.ipynb>data table notebook</a>'\n",
              "            + ' to learn more about interactive tables.';\n",
              "          element.innerHTML = '';\n",
              "          dataTable['output_type'] = 'display_data';\n",
              "          await google.colab.output.renderOutput(dataTable, element);\n",
              "          const docLink = document.createElement('div');\n",
              "          docLink.innerHTML = docLinkHtml;\n",
              "          element.appendChild(docLink);\n",
              "        }\n",
              "      </script>\n",
              "    </div>\n",
              "  </div>\n",
              "  "
            ]
          },
          "metadata": {},
          "execution_count": 3
        }
      ]
    },
    {
      "cell_type": "code",
      "source": [
        "df.info()"
      ],
      "metadata": {
        "colab": {
          "base_uri": "https://localhost:8080/"
        },
        "id": "7E9tW8J-XuQo",
        "outputId": "0e460ed3-2729-4997-ba1c-6944e4c7ba53"
      },
      "execution_count": 4,
      "outputs": [
        {
          "output_type": "stream",
          "name": "stdout",
          "text": [
            "<class 'pandas.core.frame.DataFrame'>\n",
            "RangeIndex: 891 entries, 0 to 890\n",
            "Data columns (total 12 columns):\n",
            " #   Column       Non-Null Count  Dtype  \n",
            "---  ------       --------------  -----  \n",
            " 0   PassengerId  891 non-null    int64  \n",
            " 1   Survived     891 non-null    int64  \n",
            " 2   Pclass       891 non-null    int64  \n",
            " 3   Name         891 non-null    object \n",
            " 4   Sex          891 non-null    object \n",
            " 5   Age          714 non-null    float64\n",
            " 6   SibSp        891 non-null    int64  \n",
            " 7   Parch        891 non-null    int64  \n",
            " 8   Ticket       891 non-null    object \n",
            " 9   Fare         891 non-null    float64\n",
            " 10  Cabin        204 non-null    object \n",
            " 11  Embarked     889 non-null    object \n",
            "dtypes: float64(2), int64(5), object(5)\n",
            "memory usage: 83.7+ KB\n"
          ]
        }
      ]
    },
    {
      "cell_type": "code",
      "source": [
        "x=df[['Pclass','SibSp','Parch','Fare']]\n",
        "y=df.Survived"
      ],
      "metadata": {
        "id": "Ca1skUumXwYX"
      },
      "execution_count": 5,
      "outputs": []
    },
    {
      "cell_type": "code",
      "source": [
        "from sklearn.model_selection import train_test_split\n",
        "x_train,x_test,y_train,y_test=train_test_split(x,y,test_size=0.30,random_state=0)"
      ],
      "metadata": {
        "id": "nmUgNocz7-ZV"
      },
      "execution_count": 8,
      "outputs": []
    },
    {
      "cell_type": "code",
      "source": [
        "from sklearn import svm\n",
        "from sklearn.model_selection import KFold,cross_val_score\n",
        "model=svm.SVC()\n",
        "kf=KFold(n_splits=5)\n",
        "score=cross_val_score(model,x,y,cv=kf)\n",
        "print(\"Cross Validation Scores are {}\".format(score))\n",
        "print(\"Average Cross Validation Score :{}\".format(score.mean()))"
      ],
      "metadata": {
        "colab": {
          "base_uri": "https://localhost:8080/"
        },
        "id": "E4mHNMHmYEUw",
        "outputId": "fc98f435-2e81-4847-cd70-95ad4bdca7a9"
      },
      "execution_count": 12,
      "outputs": [
        {
          "output_type": "stream",
          "name": "stdout",
          "text": [
            "Cross Validation Scores are [0.62011173 0.66853933 0.66853933 0.66292135 0.70786517]\n",
            "Average Cross Validation Score :0.6655953800765803\n"
          ]
        }
      ]
    },
    {
      "cell_type": "markdown",
      "source": [
        "**Random Search**"
      ],
      "metadata": {
        "id": "RyuZO-5--GxD"
      }
    },
    {
      "cell_type": "code",
      "source": [
        "from sklearn.model_selection import RandomizedSearchCV\n",
        "from sklearn.svm import SVC\n",
        "param_grid={'C':[0.1,1,10,100,1000],\n",
        "            'gamma':[1,0.1,0.01,0.001,0.0001],\n",
        "            'kernel':['rbf']}\n",
        "random_search=RandomizedSearchCV(estimator=SVC(),param_distributions=param_grid,verbose=1,n_jobs=1,\n",
        "                                 n_iter=20)\n",
        "random_result=random_search.fit(x_train,y_train)\n",
        "print('Best Score:',random_result.best_score_*100)\n",
        "print('Best Params:',random_result.best_params_)            \n"
      ],
      "metadata": {
        "id": "3XGikLhjaCeZ",
        "colab": {
          "base_uri": "https://localhost:8080/"
        },
        "outputId": "33180a72-7f2b-4f06-f907-252a4164f602"
      },
      "execution_count": 14,
      "outputs": [
        {
          "output_type": "stream",
          "name": "stdout",
          "text": [
            "Fitting 5 folds for each of 20 candidates, totalling 100 fits\n",
            "Best Score: 69.3483870967742\n",
            "Best Params: {'kernel': 'rbf', 'gamma': 0.001, 'C': 1000}\n"
          ]
        }
      ]
    },
    {
      "cell_type": "markdown",
      "source": [
        "**hyperopt**"
      ],
      "metadata": {
        "id": "bG6cGH2N-PNq"
      }
    },
    {
      "cell_type": "code",
      "source": [
        "from hyperopt import tpe,hp,fmin,STATUS_OK,Trials"
      ],
      "metadata": {
        "id": "fzKjK1pc-S3a"
      },
      "execution_count": 15,
      "outputs": []
    },
    {
      "cell_type": "code",
      "source": [
        "space={'C':hp.choice('C',[0.1,1,10,100,1000]),\n",
        "       'gamma':hp.choice('gamma',[1,0.1,0.01,0.001,0.0001]),\n",
        "       'kernel':hp.choice('kernel',['rbf'])}"
      ],
      "metadata": {
        "id": "t1mJ204i-lPo"
      },
      "execution_count": 16,
      "outputs": []
    },
    {
      "cell_type": "code",
      "source": [
        "def hyperparameter_tuning(params):\n",
        "  clf=SVC(**params)\n",
        "  acc=cross_val_score(clf,x_train,y_train,scoring=\"accuracy\").mean()\n",
        "  return{\"loss\":-acc,\"status\":STATUS_OK}"
      ],
      "metadata": {
        "id": "r6nc3CEt-_BN"
      },
      "execution_count": 17,
      "outputs": []
    },
    {
      "cell_type": "code",
      "source": [
        "from sklearn.model_selection import cross_val_score\n",
        "trials=Trials()\n",
        "best=fmin(\n",
        "    fn=hyperparameter_tuning,\n",
        "    space=space,\n",
        "    algo=tpe.suggest,\n",
        "    max_evals=50,\n",
        "    trials=trials\n",
        ")\n",
        "print(\"Best: {}\".format(best))"
      ],
      "metadata": {
        "colab": {
          "base_uri": "https://localhost:8080/"
        },
        "id": "rtv7YcyW_Y_b",
        "outputId": "34faf03e-f625-419b-c3b2-585917b41b8d"
      },
      "execution_count": 18,
      "outputs": [
        {
          "output_type": "stream",
          "name": "stdout",
          "text": [
            "100%|██████████| 50/50 [00:34<00:00,  1.43it/s, best loss: -0.7029548387096775]\n",
            "Best: {'C': 4, 'gamma': 2, 'kernel': 0}\n"
          ]
        }
      ]
    },
    {
      "cell_type": "code",
      "source": [
        "trials.results"
      ],
      "metadata": {
        "colab": {
          "base_uri": "https://localhost:8080/"
        },
        "id": "YAFGzjdU_4G8",
        "outputId": "5c85c69d-adfa-4775-a571-073fb74671a7"
      },
      "execution_count": 19,
      "outputs": [
        {
          "output_type": "execute_result",
          "data": {
            "text/plain": [
              "[{'loss': -0.6115612903225806, 'status': 'ok'},\n",
              " {'loss': -0.6597548387096774, 'status': 'ok'},\n",
              " {'loss': -0.6917290322580645, 'status': 'ok'},\n",
              " {'loss': -0.6854064516129033, 'status': 'ok'},\n",
              " {'loss': -0.6805806451612904, 'status': 'ok'},\n",
              " {'loss': -0.6677806451612903, 'status': 'ok'},\n",
              " {'loss': -0.6677806451612903, 'status': 'ok'},\n",
              " {'loss': -0.6468774193548387, 'status': 'ok'},\n",
              " {'loss': -0.6147870967741935, 'status': 'ok'},\n",
              " {'loss': -0.6468645161290323, 'status': 'ok'},\n",
              " {'loss': -0.7029548387096775, 'status': 'ok'},\n",
              " {'loss': -0.6645032258064516, 'status': 'ok'},\n",
              " {'loss': -0.685341935483871, 'status': 'ok'},\n",
              " {'loss': -0.6613548387096774, 'status': 'ok'},\n",
              " {'loss': -0.6805806451612904, 'status': 'ok'},\n",
              " {'loss': -0.6917677419354838, 'status': 'ok'},\n",
              " {'loss': -0.6115612903225806, 'status': 'ok'},\n",
              " {'loss': -0.6917290322580645, 'status': 'ok'},\n",
              " {'loss': -0.6917290322580645, 'status': 'ok'},\n",
              " {'loss': -0.6757935483870968, 'status': 'ok'},\n",
              " {'loss': -0.664541935483871, 'status': 'ok'},\n",
              " {'loss': -0.6917677419354838, 'status': 'ok'},\n",
              " {'loss': -0.6581806451612903, 'status': 'ok'},\n",
              " {'loss': -0.6757935483870968, 'status': 'ok'},\n",
              " {'loss': -0.6917677419354838, 'status': 'ok'},\n",
              " {'loss': -0.7029548387096775, 'status': 'ok'},\n",
              " {'loss': -0.7029548387096775, 'status': 'ok'},\n",
              " {'loss': -0.7029548387096775, 'status': 'ok'},\n",
              " {'loss': -0.7029548387096775, 'status': 'ok'},\n",
              " {'loss': -0.7029548387096775, 'status': 'ok'},\n",
              " {'loss': -0.6468645161290323, 'status': 'ok'},\n",
              " {'loss': -0.7029548387096775, 'status': 'ok'},\n",
              " {'loss': -0.7029548387096775, 'status': 'ok'},\n",
              " {'loss': -0.6805806451612904, 'status': 'ok'},\n",
              " {'loss': -0.6484903225806452, 'status': 'ok'},\n",
              " {'loss': -0.6581806451612903, 'status': 'ok'},\n",
              " {'loss': -0.6597548387096774, 'status': 'ok'},\n",
              " {'loss': -0.7029548387096775, 'status': 'ok'},\n",
              " {'loss': -0.693483870967742, 'status': 'ok'},\n",
              " {'loss': -0.672541935483871, 'status': 'ok'},\n",
              " {'loss': -0.6597548387096774, 'status': 'ok'},\n",
              " {'loss': -0.6468645161290323, 'status': 'ok'},\n",
              " {'loss': -0.6581806451612903, 'status': 'ok'},\n",
              " {'loss': -0.7029548387096775, 'status': 'ok'},\n",
              " {'loss': -0.6115612903225806, 'status': 'ok'},\n",
              " {'loss': -0.6917290322580645, 'status': 'ok'},\n",
              " {'loss': -0.693483870967742, 'status': 'ok'},\n",
              " {'loss': -0.6468645161290323, 'status': 'ok'},\n",
              " {'loss': -0.6677806451612903, 'status': 'ok'},\n",
              " {'loss': -0.6613548387096774, 'status': 'ok'}]"
            ]
          },
          "metadata": {},
          "execution_count": 19
        }
      ]
    },
    {
      "cell_type": "code",
      "source": [],
      "metadata": {
        "id": "1IDK3HicALHc"
      },
      "execution_count": null,
      "outputs": []
    }
  ]
}